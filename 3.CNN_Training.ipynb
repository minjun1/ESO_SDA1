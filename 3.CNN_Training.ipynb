{
 "cells": [
  {
   "cell_type": "markdown",
   "id": "1fa680e6-aef6-46e3-9499-8cd394ee1f84",
   "metadata": {},
   "source": [
    "# CNN Training for DAS Data (Binary Classification)\n",
    "\n",
    "This notebook demonstrates how to:\n",
    "1. Load the DAS data (train/test) from `.npy` files.\n",
    "2. Visualize random patches for noise/events.\n",
    "3. Train a CNN model on imbalanced data, focusing on F1 score, confusion matrix, etc.\n",
    "4. Evaluate using classification metrics (Precision, Recall, F1, PR-AUC, ROC-AUC, etc.).\n",
    "5. Generate embeddings and visualize with t-SNE.\n",
    "\n",
    "---\n"
   ]
  },
  {
   "cell_type": "code",
   "execution_count": 9,
   "id": "dac716ad-903e-4e10-af8a-83c34b91ab96",
   "metadata": {
    "tags": []
   },
   "outputs": [],
   "source": [
    "# notebook cell: imports\n",
    "import numpy as np\n",
    "import matplotlib.pyplot as plt\n",
    "import tensorflow as tf\n",
    "\n",
    "# Import our training script\n",
    "from my_scripts.model_training import (\n",
    "    visualize_examples,\n",
    "    train_cnn_model,\n",
    "    plot_history,\n",
    "    evaluate_model,\n",
    "    plot_pr_curve,\n",
    "    plot_roc_curve,\n",
    "    generate_embeddings,\n",
    "    plot_tsne\n",
    ")\n"
   ]
  },
  {
   "cell_type": "markdown",
   "id": "75c87fb0-13e6-4030-8bba-9d717b84a8fc",
   "metadata": {},
   "source": [
    "## Step 1: Load the Data\n",
    "\n",
    "We assume you've already processed the data into `.npy` arrays:  \n",
    "- `X_train.npy`, `y_train.npy`  \n",
    "- `X_test.npy`, `y_test.npy`  \n",
    "\n",
    "where each is shaped appropriately for a binary classification problem.  \n"
   ]
  },
  {
   "cell_type": "code",
   "execution_count": 2,
   "id": "66ec652d-84bb-4d6f-affa-f4f7b77e297a",
   "metadata": {
    "tags": []
   },
   "outputs": [
    {
     "ename": "FileNotFoundError",
     "evalue": "[Errno 2] No such file or directory: 'train_data_thres40/X_train.npy'",
     "output_type": "error",
     "traceback": [
      "\u001b[0;31m---------------------------------------------------------------------------\u001b[0m",
      "\u001b[0;31mFileNotFoundError\u001b[0m                         Traceback (most recent call last)",
      "Cell \u001b[0;32mIn[2], line 2\u001b[0m\n\u001b[1;32m      1\u001b[0m \u001b[38;5;66;03m# notebook cell: data loading\u001b[39;00m\n\u001b[0;32m----> 2\u001b[0m X_train \u001b[38;5;241m=\u001b[39m \u001b[43mnp\u001b[49m\u001b[38;5;241;43m.\u001b[39;49m\u001b[43mload\u001b[49m\u001b[43m(\u001b[49m\u001b[38;5;124;43m'\u001b[39;49m\u001b[38;5;124;43mtrain_data_thres40/X_train.npy\u001b[39;49m\u001b[38;5;124;43m'\u001b[39;49m\u001b[43m)\u001b[49m\n\u001b[1;32m      3\u001b[0m y_train \u001b[38;5;241m=\u001b[39m np\u001b[38;5;241m.\u001b[39mload(\u001b[38;5;124m'\u001b[39m\u001b[38;5;124mtrain_data_thres40/y_train.npy\u001b[39m\u001b[38;5;124m'\u001b[39m)\n\u001b[1;32m      4\u001b[0m X_test  \u001b[38;5;241m=\u001b[39m np\u001b[38;5;241m.\u001b[39mload(\u001b[38;5;124m'\u001b[39m\u001b[38;5;124mtest_data_thres40/X_test.npy\u001b[39m\u001b[38;5;124m'\u001b[39m)\n",
      "File \u001b[0;32m/opt/conda/lib/python3.10/site-packages/numpy/lib/npyio.py:405\u001b[0m, in \u001b[0;36mload\u001b[0;34m(file, mmap_mode, allow_pickle, fix_imports, encoding, max_header_size)\u001b[0m\n\u001b[1;32m    403\u001b[0m     own_fid \u001b[38;5;241m=\u001b[39m \u001b[38;5;28;01mFalse\u001b[39;00m\n\u001b[1;32m    404\u001b[0m \u001b[38;5;28;01melse\u001b[39;00m:\n\u001b[0;32m--> 405\u001b[0m     fid \u001b[38;5;241m=\u001b[39m stack\u001b[38;5;241m.\u001b[39menter_context(\u001b[38;5;28;43mopen\u001b[39;49m\u001b[43m(\u001b[49m\u001b[43mos_fspath\u001b[49m\u001b[43m(\u001b[49m\u001b[43mfile\u001b[49m\u001b[43m)\u001b[49m\u001b[43m,\u001b[49m\u001b[43m \u001b[49m\u001b[38;5;124;43m\"\u001b[39;49m\u001b[38;5;124;43mrb\u001b[39;49m\u001b[38;5;124;43m\"\u001b[39;49m\u001b[43m)\u001b[49m)\n\u001b[1;32m    406\u001b[0m     own_fid \u001b[38;5;241m=\u001b[39m \u001b[38;5;28;01mTrue\u001b[39;00m\n\u001b[1;32m    408\u001b[0m \u001b[38;5;66;03m# Code to distinguish from NumPy binary files and pickles.\u001b[39;00m\n",
      "\u001b[0;31mFileNotFoundError\u001b[0m: [Errno 2] No such file or directory: 'train_data_thres40/X_train.npy'"
     ]
    }
   ],
   "source": [
    "# notebook cell: data loading\n",
    "X_train = np.load('train_data_thres40/X_train.npy')\n",
    "y_train = np.load('train_data_thres40/y_train.npy')\n",
    "X_test  = np.load('test_data_thres40/X_test.npy')\n",
    "y_test  = np.load('test_data_thres40/y_test.npy')\n",
    "\n",
    "print(\"Train data shape:\", X_train.shape)\n",
    "print(\"Train labels shape:\", y_train.shape)\n",
    "print(\"Test data shape:\", X_test.shape)\n",
    "print(\"Test labels shape:\", y_test.shape)\n"
   ]
  },
  {
   "cell_type": "markdown",
   "id": "fe2446e5-c085-4e2f-bb6c-3254a3485cb4",
   "metadata": {},
   "source": [
    "## Step 2: Quick Visualization\n",
    "Let's visualize some random *noise* and *event* patches from the training set.  \n",
    "\n",
    "**Note on Imbalanced Data:** If the dataset is heavily skewed (e.g., much more noise than events), F1, precision, and recall may be more relevant than raw accuracy.\n"
   ]
  },
  {
   "cell_type": "code",
   "execution_count": 3,
   "id": "0c4528e2-48ea-4b7b-8de2-acd72adc8f4c",
   "metadata": {
    "tags": []
   },
   "outputs": [
    {
     "ename": "NameError",
     "evalue": "name 'visualize_examples' is not defined",
     "output_type": "error",
     "traceback": [
      "\u001b[0;31m---------------------------------------------------------------------------\u001b[0m",
      "\u001b[0;31mNameError\u001b[0m                                 Traceback (most recent call last)",
      "Cell \u001b[0;32mIn[3], line 3\u001b[0m\n\u001b[1;32m      1\u001b[0m \u001b[38;5;66;03m# notebook cell: data visualization\u001b[39;00m\n\u001b[1;32m      2\u001b[0m \u001b[38;5;66;03m# Let's just visualize the first N=6 samples or random samples\u001b[39;00m\n\u001b[0;32m----> 3\u001b[0m \u001b[43mvisualize_examples\u001b[49m(X_train, num_examples\u001b[38;5;241m=\u001b[39m\u001b[38;5;241m6\u001b[39m)\n",
      "\u001b[0;31mNameError\u001b[0m: name 'visualize_examples' is not defined"
     ]
    }
   ],
   "source": [
    "# notebook cell: data visualization\n",
    "# Let's just visualize the first N=6 samples or random samples\n",
    "visualize_examples(X_train, num_examples=6)\n"
   ]
  },
  {
   "cell_type": "markdown",
   "id": "f7bc98cd-93ba-4817-9dbd-49e8d0429dd7",
   "metadata": {},
   "source": [
    "## Step 3: Define and Train the CNN\n",
    "\n",
    "We'll train a deeper CNN with L2 regularization, dropout, and an exponential-decay learning rate schedule. We’ll also distribute across multiple GPUs if available via `tf.distribute.MirroredStrategy`.\n"
   ]
  },
  {
   "cell_type": "code",
   "execution_count": 4,
   "id": "d0df0ba7-e399-4ddc-ab39-3672495fa168",
   "metadata": {
    "tags": []
   },
   "outputs": [
    {
     "ename": "NameError",
     "evalue": "name 'train_cnn_model' is not defined",
     "output_type": "error",
     "traceback": [
      "\u001b[0;31m---------------------------------------------------------------------------\u001b[0m",
      "\u001b[0;31mNameError\u001b[0m                                 Traceback (most recent call last)",
      "Cell \u001b[0;32mIn[4], line 4\u001b[0m\n\u001b[1;32m      1\u001b[0m \u001b[38;5;66;03m# notebook cell: model training\u001b[39;00m\n\u001b[1;32m      2\u001b[0m model_save_path \u001b[38;5;241m=\u001b[39m \u001b[38;5;124m'\u001b[39m\u001b[38;5;124msaved_models/cnn_model_improved.h5\u001b[39m\u001b[38;5;124m'\u001b[39m\n\u001b[0;32m----> 4\u001b[0m model, history \u001b[38;5;241m=\u001b[39m \u001b[43mtrain_cnn_model\u001b[49m(\n\u001b[1;32m      5\u001b[0m     X_train, y_train,\n\u001b[1;32m      6\u001b[0m     save_path\u001b[38;5;241m=\u001b[39mmodel_save_path,\n\u001b[1;32m      7\u001b[0m     batch_size\u001b[38;5;241m=\u001b[39m\u001b[38;5;241m32\u001b[39m,\n\u001b[1;32m      8\u001b[0m     epochs\u001b[38;5;241m=\u001b[39m\u001b[38;5;241m100\u001b[39m,\n\u001b[1;32m      9\u001b[0m     val_split\u001b[38;5;241m=\u001b[39m\u001b[38;5;241m0.1\u001b[39m,\n\u001b[1;32m     10\u001b[0m     initial_lr\u001b[38;5;241m=\u001b[39m\u001b[38;5;241m1e-4\u001b[39m\n\u001b[1;32m     11\u001b[0m )\n",
      "\u001b[0;31mNameError\u001b[0m: name 'train_cnn_model' is not defined"
     ]
    }
   ],
   "source": [
    "# notebook cell: model training\n",
    "model_save_path = 'saved_models/cnn_model_improved.h5'\n",
    "\n",
    "model, history = train_cnn_model(\n",
    "    X_train, y_train,\n",
    "    save_path=model_save_path,\n",
    "    batch_size=32,\n",
    "    epochs=100,\n",
    "    val_split=0.1,\n",
    "    initial_lr=1e-4\n",
    ")\n"
   ]
  },
  {
   "cell_type": "markdown",
   "id": "ae6bff54-fd54-4d3c-bead-97a5a5135118",
   "metadata": {},
   "source": [
    "## Step 4: Plot Training Curves\n",
    "Let's visualize accuracy and loss for both training and validation.\n"
   ]
  },
  {
   "cell_type": "code",
   "execution_count": 5,
   "id": "c7da704d-d2c4-4c57-86bf-403f76b4b9da",
   "metadata": {
    "tags": []
   },
   "outputs": [
    {
     "ename": "NameError",
     "evalue": "name 'plot_history' is not defined",
     "output_type": "error",
     "traceback": [
      "\u001b[0;31m---------------------------------------------------------------------------\u001b[0m",
      "\u001b[0;31mNameError\u001b[0m                                 Traceback (most recent call last)",
      "Cell \u001b[0;32mIn[5], line 1\u001b[0m\n\u001b[0;32m----> 1\u001b[0m \u001b[43mplot_history\u001b[49m(history, out_path\u001b[38;5;241m=\u001b[39m\u001b[38;5;124m'\u001b[39m\u001b[38;5;124mimbtrain/Acc_Loss.png\u001b[39m\u001b[38;5;124m'\u001b[39m)\n",
      "\u001b[0;31mNameError\u001b[0m: name 'plot_history' is not defined"
     ]
    }
   ],
   "source": [
    "plot_history(history, out_path='imbtrain/Acc_Loss.png')\n"
   ]
  },
  {
   "cell_type": "markdown",
   "id": "ce13dbcf-682d-48e8-a5ad-9537cbdbca62",
   "metadata": {},
   "source": [
    "## Step 5: Evaluation with Confusion Matrix & Metrics\n",
    "\n",
    "### Why These Metrics?\n",
    "- **Confusion Matrix**: Helps us see how many noise/events were misclassified.  \n",
    "- **Accuracy**: Overall fraction of correct predictions.  \n",
    "- **Precision**: Out of all predicted positives, how many were truly positive?  \n",
    "- **Recall**: Out of all actual positives, how many did we predict correctly?  \n",
    "- **F1 Score**: Harmonic mean of precision and recall, often more informative than accuracy for imbalanced data.  \n",
    "\n",
    "We also recommend **PR-AUC** (Precision-Recall AUC) for highly skewed classes, as ROC curves can sometimes give overly optimistic views in extreme class imbalance.\n"
   ]
  },
  {
   "cell_type": "code",
   "execution_count": 6,
   "id": "91edec10-cbf8-42fb-8ac5-162b8f752e94",
   "metadata": {
    "tags": []
   },
   "outputs": [
    {
     "ename": "NameError",
     "evalue": "name 'evaluate_model' is not defined",
     "output_type": "error",
     "traceback": [
      "\u001b[0;31m---------------------------------------------------------------------------\u001b[0m",
      "\u001b[0;31mNameError\u001b[0m                                 Traceback (most recent call last)",
      "Cell \u001b[0;32mIn[6], line 2\u001b[0m\n\u001b[1;32m      1\u001b[0m \u001b[38;5;66;03m# notebook cell: evaluate on test set\u001b[39;00m\n\u001b[0;32m----> 2\u001b[0m y_pred \u001b[38;5;241m=\u001b[39m \u001b[43mevaluate_model\u001b[49m(model, X_test, y_test)\n",
      "\u001b[0;31mNameError\u001b[0m: name 'evaluate_model' is not defined"
     ]
    }
   ],
   "source": [
    "# notebook cell: evaluate on test set\n",
    "y_pred = evaluate_model(model, X_test, y_test)\n"
   ]
  },
  {
   "cell_type": "markdown",
   "id": "c1e54fa7-1c84-47bb-9663-6ddd96c64e96",
   "metadata": {},
   "source": [
    "## Step 6: Precision-Recall Curve & ROC Curve\n"
   ]
  },
  {
   "cell_type": "code",
   "execution_count": 7,
   "id": "4e23bd42-8168-4cab-96d1-bb7bd22b55af",
   "metadata": {
    "tags": []
   },
   "outputs": [
    {
     "ename": "NameError",
     "evalue": "name 'model' is not defined",
     "output_type": "error",
     "traceback": [
      "\u001b[0;31m---------------------------------------------------------------------------\u001b[0m",
      "\u001b[0;31mNameError\u001b[0m                                 Traceback (most recent call last)",
      "Cell \u001b[0;32mIn[7], line 2\u001b[0m\n\u001b[1;32m      1\u001b[0m \u001b[38;5;66;03m# We'll use the predicted probability for these plots\u001b[39;00m\n\u001b[0;32m----> 2\u001b[0m y_pred_prob \u001b[38;5;241m=\u001b[39m \u001b[43mmodel\u001b[49m\u001b[38;5;241m.\u001b[39mpredict(X_test, batch_size\u001b[38;5;241m=\u001b[39m\u001b[38;5;241m1\u001b[39m)\u001b[38;5;241m.\u001b[39mravel()\n\u001b[1;32m      4\u001b[0m pr_auc \u001b[38;5;241m=\u001b[39m plot_pr_curve(y_test, y_pred_prob, label_name\u001b[38;5;241m=\u001b[39m\u001b[38;5;124m\"\u001b[39m\u001b[38;5;124mCNN Model\u001b[39m\u001b[38;5;124m\"\u001b[39m)\n\u001b[1;32m      5\u001b[0m roc_auc \u001b[38;5;241m=\u001b[39m plot_roc_curve(y_test, y_pred_prob, label_name\u001b[38;5;241m=\u001b[39m\u001b[38;5;124m\"\u001b[39m\u001b[38;5;124mCNN Model\u001b[39m\u001b[38;5;124m\"\u001b[39m)\n",
      "\u001b[0;31mNameError\u001b[0m: name 'model' is not defined"
     ]
    }
   ],
   "source": [
    "# We'll use the predicted probability for these plots\n",
    "y_pred_prob = model.predict(X_test, batch_size=1).ravel()\n",
    "\n",
    "pr_auc = plot_pr_curve(y_test, y_pred_prob, label_name=\"CNN Model\")\n",
    "roc_auc = plot_roc_curve(y_test, y_pred_prob, label_name=\"CNN Model\")\n"
   ]
  },
  {
   "cell_type": "markdown",
   "id": "41c7871c-6443-4afe-b64a-917bba7852f0",
   "metadata": {},
   "source": [
    "## Step 7: t-SNE Visualization of Embeddings\n",
    "\n",
    "We can extract the \"embedding_layer\" output (128-dim) to visualize how the network clusters events vs noise. Then apply t-SNE to reduce to 2D.\n"
   ]
  },
  {
   "cell_type": "code",
   "execution_count": 8,
   "id": "860dd199-f2a1-4754-a3d5-3f29853dedbe",
   "metadata": {
    "tags": []
   },
   "outputs": [
    {
     "ename": "NameError",
     "evalue": "name 'generate_embeddings' is not defined",
     "output_type": "error",
     "traceback": [
      "\u001b[0;31m---------------------------------------------------------------------------\u001b[0m",
      "\u001b[0;31mNameError\u001b[0m                                 Traceback (most recent call last)",
      "Cell \u001b[0;32mIn[8], line 2\u001b[0m\n\u001b[1;32m      1\u001b[0m \u001b[38;5;66;03m# notebook cell: embed & visualize\u001b[39;00m\n\u001b[0;32m----> 2\u001b[0m embeddings_test \u001b[38;5;241m=\u001b[39m \u001b[43mgenerate_embeddings\u001b[49m(model, X_test)\n\u001b[1;32m      4\u001b[0m \u001b[38;5;66;03m# t-SNE might be computationally expensive, consider a subset if needed\u001b[39;00m\n\u001b[1;32m      5\u001b[0m plot_tsne(embeddings_test, y_test, title\u001b[38;5;241m=\u001b[39m\u001b[38;5;124m\"\u001b[39m\u001b[38;5;124mt-SNE on Test Embeddings\u001b[39m\u001b[38;5;124m\"\u001b[39m)\n",
      "\u001b[0;31mNameError\u001b[0m: name 'generate_embeddings' is not defined"
     ]
    }
   ],
   "source": [
    "# notebook cell: embed & visualize\n",
    "embeddings_test = generate_embeddings(model, X_test)\n",
    "\n",
    "# t-SNE might be computationally expensive, consider a subset if needed\n",
    "plot_tsne(embeddings_test, y_test, title=\"t-SNE on Test Embeddings\")\n"
   ]
  },
  {
   "cell_type": "code",
   "execution_count": null,
   "id": "1d9743fa-0ace-41c3-9ad3-8c0002fe84e2",
   "metadata": {},
   "outputs": [],
   "source": []
  }
 ],
 "metadata": {
  "environment": {
   "kernel": "python3",
   "name": "tf2-gpu.2-15.m120",
   "type": "gcloud",
   "uri": "us-docker.pkg.dev/deeplearning-platform-release/gcr.io/tf2-gpu.2-15:m120"
  },
  "kernelspec": {
   "display_name": "Python 3 (Local)",
   "language": "python",
   "name": "python3"
  },
  "language_info": {
   "codemirror_mode": {
    "name": "ipython",
    "version": 3
   },
   "file_extension": ".py",
   "mimetype": "text/x-python",
   "name": "python",
   "nbconvert_exporter": "python",
   "pygments_lexer": "ipython3",
   "version": "3.10.14"
  }
 },
 "nbformat": 4,
 "nbformat_minor": 5
}
